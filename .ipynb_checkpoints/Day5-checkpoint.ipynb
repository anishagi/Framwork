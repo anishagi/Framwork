{
 "cells": [
  {
   "cell_type": "code",
   "execution_count": 18,
   "id": "4ce676ac",
   "metadata": {},
   "outputs": [
    {
     "name": "stdout",
     "output_type": "stream",
     "text": [
      "Enter the numbers:12 12 12 12\n",
      "48\n"
     ]
    }
   ],
   "source": [
    "#Take multiple numbers as input and print the sum\n",
    "A=[int(i) for i in input(\"Enter the numbers:\").split()]\n",
    "sum = 0\n",
    "for j in A:\n",
    "    sum += j\n",
    "print(sum)\n",
    "\n"
   ]
  },
  {
   "cell_type": "markdown",
   "id": "06c72a1d",
   "metadata": {},
   "source": [
    "def f(x):\n",
    "      return x%3==0 and x%5==0\n",
    "li=list(range( 1 ,100))\n",
    "print(list(filter(f,li)))"
   ]
  },
  {
   "cell_type": "raw",
   "id": "37b49200",
   "metadata": {},
   "source": [
    "#Define a function which will take a number as argument and return its factorial.\n",
    "Call the function to print factorial of any number(integer).\n",
    "\n",
    "number = int(inpyt(\"Enter the number:\")\n",
    "factorial = 1\n",
    "\n",
    "if(number < 0)\n",
    "  print(\"Can't find factorial for negative numbers:\")\n",
    "elif(number < 2)\n",
    "  print(\"{}! = {}\".formate(number,factorial)\n",
    "else:\n",
    "  for num in range(number,1,-1):\n",
    "  print(num)\n",
    "  \n",
    "  "
   ]
  },
  {
   "cell_type": "code",
   "execution_count": null,
   "id": "adaa5a10",
   "metadata": {},
   "outputs": [],
   "source": []
  }
 ],
 "metadata": {
  "kernelspec": {
   "display_name": "Python 3 (ipykernel)",
   "language": "python",
   "name": "python3"
  },
  "language_info": {
   "codemirror_mode": {
    "name": "ipython",
    "version": 3
   },
   "file_extension": ".py",
   "mimetype": "text/x-python",
   "name": "python",
   "nbconvert_exporter": "python",
   "pygments_lexer": "ipython3",
   "version": "3.10.1"
  }
 },
 "nbformat": 4,
 "nbformat_minor": 5
}
